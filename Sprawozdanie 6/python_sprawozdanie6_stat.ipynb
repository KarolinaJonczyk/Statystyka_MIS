{
 "cells": [
  {
   "cell_type": "code",
   "execution_count": 2,
   "id": "e1495c8a-bdcd-4cba-bb24-099e1fd00319",
   "metadata": {},
   "outputs": [
    {
     "data": {
      "text/plain": [
       "(27.5, 4.7871355387816905)"
      ]
     },
     "execution_count": 2,
     "metadata": {},
     "output_type": "execute_result"
    }
   ],
   "source": [
    "from math import sqrt, comb\n",
    "n=5\n",
    "m=5\n",
    "L=0.1\n",
    "kwantyl = 1.28\n",
    "mi = n*(n+m+1)/2\n",
    "sigma = m*n*(m+n+1)/12\n",
    "mi, sqrt(sigma)"
   ]
  },
  {
   "cell_type": "code",
   "execution_count": 3,
   "id": "a4209b40-a2ce-49aa-ab6a-1ba0f0f8946c",
   "metadata": {},
   "outputs": [
    {
     "data": {
      "text/plain": [
       "33.62753348964056"
      ]
     },
     "execution_count": 3,
     "metadata": {},
     "output_type": "execute_result"
    }
   ],
   "source": [
    "kw=kwantyl*sqrt(sigma)+mi\n",
    "kw"
   ]
  },
  {
   "cell_type": "code",
   "execution_count": 4,
   "id": "cdaab7ca-ab17-4780-bf2d-51e6a0fb0d1a",
   "metadata": {},
   "outputs": [],
   "source": [
    "#matlab nchoosek(1:N, 5)\n",
    "\n",
    "def nchoosek(n, k):\n",
    "    if k == 0:\n",
    "        r = 1\n",
    "    else:\n",
    "        r = n/k * nchoosek(n-1, k-1)\n",
    "    return round(r)"
   ]
  },
  {
   "cell_type": "code",
   "execution_count": 5,
   "id": "a9b49341-707a-4950-8cfd-252bd67f7fe5",
   "metadata": {},
   "outputs": [
    {
     "data": {
      "text/plain": [
       "252"
      ]
     },
     "execution_count": 5,
     "metadata": {},
     "output_type": "execute_result"
    }
   ],
   "source": [
    "nchoosek(m+n, n)"
   ]
  },
  {
   "cell_type": "code",
   "execution_count": 6,
   "id": "b11c49c2-b87e-4d62-ab4e-1b5c7b7f9b86",
   "metadata": {},
   "outputs": [
    {
     "data": {
      "text/plain": [
       "252"
      ]
     },
     "execution_count": 6,
     "metadata": {},
     "output_type": "execute_result"
    }
   ],
   "source": [
    "com = comb(n+m, n)\n",
    "com"
   ]
  },
  {
   "cell_type": "code",
   "execution_count": 7,
   "id": "630d1e74-cead-4b08-8d6b-b53a3b514794",
   "metadata": {},
   "outputs": [
    {
     "data": {
      "text/plain": [
       "(252, 5)"
      ]
     },
     "execution_count": 7,
     "metadata": {},
     "output_type": "execute_result"
    }
   ],
   "source": [
    "import itertools\n",
    "from numpy import shape, array\n",
    "all_combos = list(itertools.combinations([1,2,3,4,5,6,7,8,9,10], 5))\n",
    "#print(all_combos)\n",
    "arri = array(all_combos)\n",
    "arri.shape"
   ]
  },
  {
   "cell_type": "code",
   "execution_count": 8,
   "id": "524f3028-ad2b-4110-8cf9-37afdb159711",
   "metadata": {},
   "outputs": [
    {
     "data": {
      "text/plain": [
       "array([[ 1,  2,  3,  4,  5],\n",
       "       [ 1,  2,  3,  4,  6],\n",
       "       [ 1,  2,  3,  4,  7],\n",
       "       ...,\n",
       "       [ 5,  6,  8,  9, 10],\n",
       "       [ 5,  7,  8,  9, 10],\n",
       "       [ 6,  7,  8,  9, 10]])"
      ]
     },
     "execution_count": 8,
     "metadata": {},
     "output_type": "execute_result"
    }
   ],
   "source": [
    "arri"
   ]
  },
  {
   "cell_type": "code",
   "execution_count": 9,
   "id": "4a2df556-1099-41e0-85ff-838a502ad35d",
   "metadata": {},
   "outputs": [],
   "source": [
    "def row_sum(arr) :\n",
    " \n",
    "    sum = 0\n",
    " \n",
    "    print(\"\\nFinding Sum of each row:\\n\")\n",
    " \n",
    "    # finding the row sum\n",
    "    for i in range(m) :\n",
    "        for j in range(n) :\n",
    " \n",
    "            # Add the element\n",
    "            sum += arr[i][j]\n",
    " \n",
    "        # Print the row sum\n",
    "        print(\"Sum of the row\",i,\"=\",sum)\n",
    " \n",
    "        # Reset the sum\n",
    "        sum = 0\n",
    "        \n",
    "def column_sum(arr) :\n",
    " \n",
    "    sum = 0\n",
    " \n",
    "    print(\"\\nFinding Sum of each column:\\n\")\n",
    " \n",
    "    # finding the column sum\n",
    "    for i in range(m) :\n",
    "        for j in range(n) :\n",
    " \n",
    "            # Add the element\n",
    "            sum += arr[j][i]\n",
    " \n",
    "        # Print the column sum\n",
    "        print(\"Sum of the column\",i,\"=\",sum)\n",
    " \n",
    "        # Reset the sum\n",
    "        sum = 0"
   ]
  },
  {
   "cell_type": "code",
   "execution_count": 10,
   "id": "0f11d30d-fa1d-4b95-a24a-645dddc752bf",
   "metadata": {},
   "outputs": [
    {
     "name": "stdout",
     "output_type": "stream",
     "text": [
      "\n",
      "Finding Sum of each column:\n",
      "\n",
      "Sum of the column 0 = 5\n",
      "Sum of the column 1 = 10\n",
      "Sum of the column 2 = 15\n",
      "Sum of the column 3 = 20\n",
      "Sum of the column 4 = 35\n"
     ]
    }
   ],
   "source": [
    "column_sum(arri)"
   ]
  },
  {
   "cell_type": "code",
   "execution_count": 53,
   "id": "2c6da675-abf6-4959-8d3e-4dc593a6d07b",
   "metadata": {},
   "outputs": [
    {
     "data": {
      "text/plain": [
       "array([[ 1,  2,  3,  4,  5],\n",
       "       [ 1,  2,  3,  4,  6],\n",
       "       [ 1,  2,  3,  4,  7],\n",
       "       ...,\n",
       "       [ 5,  6,  8,  9, 10],\n",
       "       [ 5,  7,  8,  9, 10],\n",
       "       [ 6,  7,  8,  9, 10]])"
      ]
     },
     "execution_count": 53,
     "metadata": {},
     "output_type": "execute_result"
    }
   ],
   "source": []
  },
  {
   "cell_type": "code",
   "execution_count": 11,
   "id": "14907017-33e7-44cf-8af1-7e24c4acb1df",
   "metadata": {},
   "outputs": [
    {
     "data": {
      "text/plain": [
       "0.1111111111111111"
      ]
     },
     "execution_count": 11,
     "metadata": {},
     "output_type": "execute_result"
    }
   ],
   "source": [
    "prawdopoodbieństwo = 28/com\n",
    "prawdopoodbieństwo"
   ]
  },
  {
   "cell_type": "markdown",
   "id": "a91fad3f-e7ef-4d07-bab6-1f591e281eeb",
   "metadata": {},
   "source": [
    "zadanie 2"
   ]
  },
  {
   "cell_type": "code",
   "execution_count": 12,
   "id": "91d03130-ea16-4e28-a3ff-29fdf18a7791",
   "metadata": {},
   "outputs": [],
   "source": [
    "m=6\n",
    "n=3\n",
    "N=9"
   ]
  },
  {
   "cell_type": "code",
   "execution_count": 13,
   "id": "d3ced7f1-d567-4e0c-b6a1-40cb5b69617c",
   "metadata": {},
   "outputs": [
    {
     "data": {
      "text/plain": [
       "84"
      ]
     },
     "execution_count": 13,
     "metadata": {},
     "output_type": "execute_result"
    }
   ],
   "source": [
    "com1 = comb(m+n, n)\n",
    "com1"
   ]
  },
  {
   "cell_type": "code",
   "execution_count": 14,
   "id": "955f3154-990a-4cb9-9ad4-187ea4d5abc7",
   "metadata": {},
   "outputs": [
    {
     "data": {
      "text/plain": [
       "0.9523809523809523"
      ]
     },
     "execution_count": 14,
     "metadata": {},
     "output_type": "execute_result"
    }
   ],
   "source": [
    "g=80\n",
    "alpha0 = g/com1\n",
    "alpha0"
   ]
  },
  {
   "cell_type": "code",
   "execution_count": 30,
   "id": "22a6b2bc-3a26-4959-ac99-20f0c51c2e7c",
   "metadata": {},
   "outputs": [],
   "source": [
    "import scipy.stats\n",
    "from math import sqrt"
   ]
  },
  {
   "cell_type": "code",
   "execution_count": 57,
   "id": "1a41f97e-e9de-4540-ab8e-05031a3aa972",
   "metadata": {},
   "outputs": [
    {
     "data": {
      "text/plain": [
       "(nan, -1.5491933384829668)"
      ]
     },
     "execution_count": 57,
     "metadata": {},
     "output_type": "execute_result"
    }
   ],
   "source": [
    "m=6\n",
    "n=3\n",
    "N=m+n\n",
    "w9=9\n",
    "w12 = 12\n",
    "w15 = 15\n",
    "w21 = 21\n",
    "gora9 = 9-0.5*n*(N+1)\n",
    "dol = sqrt(m*n*(N+1)/12)\n",
    "d1=gora9/dol\n",
    "scipy.stats.norm.ppf(d1), d1"
   ]
  },
  {
   "cell_type": "code",
   "execution_count": 58,
   "id": "c5a80650-29ad-4de6-93a6-b92616b49a12",
   "metadata": {},
   "outputs": [
    {
     "data": {
      "text/plain": [
       "(nan, -0.7745966692414834)"
      ]
     },
     "execution_count": 58,
     "metadata": {},
     "output_type": "execute_result"
    }
   ],
   "source": [
    "gora12=12-0.5*n*(N+1)\n",
    "d2=gora12/dol\n",
    "scipy.stats.norm.ppf(d2), d2"
   ]
  },
  {
   "cell_type": "code",
   "execution_count": 59,
   "id": "16581c1b-836c-4766-af7b-67f45af9d64a",
   "metadata": {},
   "outputs": [
    {
     "data": {
      "text/plain": [
       "(-inf, 0.0)"
      ]
     },
     "execution_count": 59,
     "metadata": {},
     "output_type": "execute_result"
    }
   ],
   "source": [
    "gora15=15-0.5*n*(N+1)\n",
    "d3=gora15/dol\n",
    "scipy.stats.norm.ppf(d3), d3"
   ]
  },
  {
   "cell_type": "code",
   "execution_count": 61,
   "id": "a489b8ad-002b-4dcd-b4a6-d3f9407022b6",
   "metadata": {},
   "outputs": [
    {
     "data": {
      "text/plain": [
       "(nan, 1.5491933384829668)"
      ]
     },
     "execution_count": 61,
     "metadata": {},
     "output_type": "execute_result"
    }
   ],
   "source": [
    "gora21=21-0.5*n*(N+1)\n",
    "d4=gora21/dol\n",
    "scipy.stats.norm.ppf(d4), d4"
   ]
  },
  {
   "cell_type": "code",
   "execution_count": 63,
   "id": "ecf23234-e429-441c-943d-2f5c3b20edc6",
   "metadata": {},
   "outputs": [
    {
     "data": {
      "text/plain": [
       "2.3263478740408408"
      ]
     },
     "execution_count": 63,
     "metadata": {},
     "output_type": "execute_result"
    }
   ],
   "source": [
    "scipy.stats.norm.ppf(0.99)"
   ]
  },
  {
   "cell_type": "code",
   "execution_count": null,
   "id": "0a56cf2a-1d47-4249-b8d3-810a9b4264b6",
   "metadata": {},
   "outputs": [],
   "source": []
  }
 ],
 "metadata": {
  "kernelspec": {
   "display_name": "Python 3 (ipykernel)",
   "language": "python",
   "name": "python3"
  },
  "language_info": {
   "codemirror_mode": {
    "name": "ipython",
    "version": 3
   },
   "file_extension": ".py",
   "mimetype": "text/x-python",
   "name": "python",
   "nbconvert_exporter": "python",
   "pygments_lexer": "ipython3",
   "version": "3.9.7"
  }
 },
 "nbformat": 4,
 "nbformat_minor": 5
}
